{
 "cells": [
  {
   "cell_type": "code",
   "execution_count": null,
   "id": "8c413cc2",
   "metadata": {},
   "outputs": [],
   "source": [
    "# 🔧 기본 라이브러리 불러오기\n",
    "import pandas as pd\n",
    "import matplotlib.pyplot as plt\n",
    "import openpyxl\n",
    "\n",
    "# ✅ 한글 정렬, 너비 확장, 행/열 표시 전부 자동화\n",
    "pd.set_option('display.unicode.east_asian_width', True)  # 한글 정렬 맞추기\n",
    "pd.set_option('display.width', 150)                      # 콘솔 너비 자동 확장\n",
    "pd.set_option('display.max_columns', None)               # 모든 열 표시\n",
    "pd.set_option('display.max_rows', 1000)                  # 최대 1000행 표시\n",
    "pd.set_option('display.max_colwidth', None)              # 긴 문자열 자르지 않기\n",
    "pd.set_option('display.expand_frame_repr', False)\n",
    "\n",
    "# ✅ matplotlib 시각화 설정 (한글 & 마이너스 깨짐 방지)\n",
    "plt.rcParams['font.family'] = 'Malgun Gothic'             # 윈도우용 한글 폰트\n",
    "plt.rcParams['axes.unicode_minus'] = False  "
   ]
  },
  {
   "cell_type": "markdown",
   "id": "24b554e3",
   "metadata": {},
   "source": [
    "# 2.DataFrame\n",
    "2차원 데이터(Series들의 모음)"
   ]
  },
  {
   "cell_type": "markdown",
   "id": "326746ea",
   "metadata": {},
   "source": [
    "## Data 준비\n",
    "사전(dictionary) 자료구조를 통해 생성\n",
    "예)슬램덩크 주요 인물 8명에 대한 데이터정리"
   ]
  },
  {
   "cell_type": "code",
   "execution_count": 12,
   "id": "6de04461",
   "metadata": {},
   "outputs": [
    {
     "data": {
      "text/plain": [
       "{'이름': ['채치수', '정대만', '송태섭', '서태웅', '강백호', '변덕규', '황태산', '윤대협'],\n",
       " '학교': ['북산고', '북산고', '북산고', '북산고', '북산고', '능남고', '능남고', '능남고'],\n",
       " '키': [197, 184, 168, 187, 188, 202, 188, 190],\n",
       " '국어': [90, 40, 80, 40, 15, 80, 55, 100],\n",
       " '영어': [85, 35, 75, 60, 20, 100, 65, 85],\n",
       " '수학': [100, 50, 70, 70, 10, 95, 45, 90],\n",
       " '과학': [95, 55, 80, 75, 35, 85, 40, 95],\n",
       " '사회': [85, 25, 75, 80, 10, 80, 35, 95],\n",
       " 'SW특기': ['Python', 'Java', 'Javascript', '', '', 'C', 'PYTHON', 'C#']}"
      ]
     },
     "metadata": {},
     "output_type": "display_data"
    }
   ],
   "source": [
    "data = {\n",
    "    '이름' : ['채치수', '정대만', '송태섭', '서태웅', '강백호', '변덕규', '황태산', '윤대협'],\n",
    "    '학교' : ['북산고', '북산고', '북산고', '북산고', '북산고', '능남고', '능남고', '능남고'],\n",
    "    '키' : [197, 184, 168, 187, 188, 202, 188, 190],\n",
    "    '국어' : [90, 40, 80, 40, 15, 80, 55, 100],\n",
    "    '영어' : [85, 35, 75, 60, 20, 100, 65, 85],\n",
    "    '수학' : [100, 50, 70, 70, 10, 95, 45, 90],\n",
    "    '과학' : [95, 55, 80, 75, 35, 85, 40, 95],\n",
    "    '사회' : [85, 25, 75, 80, 10, 80, 35, 95],\n",
    "    'SW특기' : ['Python', 'Java', 'Javascript', '', '', 'C', 'PYTHON', 'C#']\n",
    "}\n",
    "\n",
    "display(data)"
   ]
  },
  {
   "cell_type": "code",
   "execution_count": 13,
   "id": "122815d5",
   "metadata": {},
   "outputs": [
    {
     "name": "stdout",
     "output_type": "stream",
     "text": [
      "['채치수', '정대만', '송태섭', '서태웅', '강백호', '변덕규', '황태산', '윤대협']\n"
     ]
    }
   ],
   "source": [
    "print(data['이름'])"
   ]
  },
  {
   "cell_type": "code",
   "execution_count": 14,
   "id": "0d6eda0b",
   "metadata": {},
   "outputs": [
    {
     "name": "stdout",
     "output_type": "stream",
     "text": [
      "[197, 184, 168, 187, 188, 202, 188, 190]\n"
     ]
    }
   ],
   "source": [
    "print(data['키'])"
   ]
  },
  {
   "cell_type": "markdown",
   "id": "5dec3bfa",
   "metadata": {},
   "source": [
    "## DataFrame객체 생성"
   ]
  },
  {
   "cell_type": "code",
   "execution_count": 15,
   "id": "26aae491",
   "metadata": {},
   "outputs": [
    {
     "name": "stdout",
     "output_type": "stream",
     "text": [
      "     이름    학교   키  국어  영어  수학  과학  사회      SW특기\n",
      "0  채치수  북산고  197    90    85   100    95    85      Python\n",
      "1  정대만  북산고  184    40    35    50    55    25        Java\n",
      "2  송태섭  북산고  168    80    75    70    80    75  Javascript\n",
      "3  서태웅  북산고  187    40    60    70    75    80            \n",
      "4  강백호  북산고  188    15    20    10    35    10            \n",
      "5  변덕규  능남고  202    80   100    95    85    80           C\n",
      "6  황태산  능남고  188    55    65    45    40    35      PYTHON\n",
      "7  윤대협  능남고  190   100    85    90    95    95          C#\n"
     ]
    }
   ],
   "source": [
    "df=pd.DataFrame(data)\n",
    "print(df)"
   ]
  },
  {
   "cell_type": "code",
   "execution_count": 16,
   "id": "b4e043af",
   "metadata": {},
   "outputs": [
    {
     "name": "stdout",
     "output_type": "stream",
     "text": [
      "0    채치수\n",
      "1    정대만\n",
      "2    송태섭\n",
      "3    서태웅\n",
      "4    강백호\n",
      "5    변덕규\n",
      "6    황태산\n",
      "7    윤대협\n",
      "Name: 이름, dtype: object\n"
     ]
    }
   ],
   "source": [
    "print(df['이름'])"
   ]
  },
  {
   "cell_type": "code",
   "execution_count": null,
   "id": "c9519a45",
   "metadata": {},
   "outputs": [
    {
     "name": "stdout",
     "output_type": "stream",
     "text": [
      "     이름   키  국어\n",
      "0  채치수  197    90\n",
      "1  정대만  184    40\n",
      "2  송태섭  168    80\n",
      "3  서태웅  187    40\n",
      "4  강백호  188    15\n",
      "5  변덕규  202    80\n",
      "6  황태산  188    55\n",
      "7  윤대협  190   100\n"
     ]
    }
   ],
   "source": [
    "print(df[['이름','키','국어']])    #여러colum만 선별해서 보려면 []대괄호2개쓰기"
   ]
  },
  {
   "cell_type": "markdown",
   "id": "193fa212",
   "metadata": {},
   "source": [
    "## DataFram 객체 생성\n",
    "index 지정"
   ]
  },
  {
   "cell_type": "code",
   "execution_count": 18,
   "id": "f0c1649c",
   "metadata": {},
   "outputs": [
    {
     "name": "stdout",
     "output_type": "stream",
     "text": [
      "       이름    학교   키  국어  영어  수학  과학  사회      SW특기\n",
      "1번  채치수  북산고  197    90    85   100    95    85      Python\n",
      "2번  정대만  북산고  184    40    35    50    55    25        Java\n",
      "3번  송태섭  북산고  168    80    75    70    80    75  Javascript\n",
      "4번  서태웅  북산고  187    40    60    70    75    80            \n",
      "5번  강백호  북산고  188    15    20    10    35    10            \n",
      "6번  변덕규  능남고  202    80   100    95    85    80           C\n",
      "7번  황태산  능남고  188    55    65    45    40    35      PYTHON\n",
      "8번  윤대협  능남고  190   100    85    90    95    95          C#\n"
     ]
    }
   ],
   "source": [
    "df=pd.DataFrame(data,index=['1번','2번','3번','4번','5번','6번','7번','8번'])\n",
    "print(df)"
   ]
  },
  {
   "cell_type": "markdown",
   "id": "42c20225",
   "metadata": {},
   "source": [
    "## DataFrame 객체 생성(Column지정)\n",
    "data 중에서 원하는 column만 선택or순서변경가능"
   ]
  },
  {
   "cell_type": "code",
   "execution_count": 21,
   "id": "ee68173b",
   "metadata": {},
   "outputs": [
    {
     "data": {
      "text/html": [
       "<div>\n",
       "<style scoped>\n",
       "    .dataframe tbody tr th:only-of-type {\n",
       "        vertical-align: middle;\n",
       "    }\n",
       "\n",
       "    .dataframe tbody tr th {\n",
       "        vertical-align: top;\n",
       "    }\n",
       "\n",
       "    .dataframe thead th {\n",
       "        text-align: right;\n",
       "    }\n",
       "</style>\n",
       "<table border=\"1\" class=\"dataframe\">\n",
       "  <thead>\n",
       "    <tr style=\"text-align: right;\">\n",
       "      <th></th>\n",
       "      <th>이름</th>\n",
       "      <th>키</th>\n",
       "      <th>학교</th>\n",
       "    </tr>\n",
       "  </thead>\n",
       "  <tbody>\n",
       "    <tr>\n",
       "      <th>1</th>\n",
       "      <td>채치수</td>\n",
       "      <td>197</td>\n",
       "      <td>북산고</td>\n",
       "    </tr>\n",
       "    <tr>\n",
       "      <th>2</th>\n",
       "      <td>정대만</td>\n",
       "      <td>184</td>\n",
       "      <td>북산고</td>\n",
       "    </tr>\n",
       "    <tr>\n",
       "      <th>3</th>\n",
       "      <td>송태섭</td>\n",
       "      <td>168</td>\n",
       "      <td>북산고</td>\n",
       "    </tr>\n",
       "    <tr>\n",
       "      <th>4</th>\n",
       "      <td>서태웅</td>\n",
       "      <td>187</td>\n",
       "      <td>북산고</td>\n",
       "    </tr>\n",
       "    <tr>\n",
       "      <th>5</th>\n",
       "      <td>강백호</td>\n",
       "      <td>188</td>\n",
       "      <td>북산고</td>\n",
       "    </tr>\n",
       "    <tr>\n",
       "      <th>6</th>\n",
       "      <td>변덕규</td>\n",
       "      <td>202</td>\n",
       "      <td>능남고</td>\n",
       "    </tr>\n",
       "    <tr>\n",
       "      <th>7</th>\n",
       "      <td>황태산</td>\n",
       "      <td>188</td>\n",
       "      <td>능남고</td>\n",
       "    </tr>\n",
       "    <tr>\n",
       "      <th>8</th>\n",
       "      <td>윤대협</td>\n",
       "      <td>190</td>\n",
       "      <td>능남고</td>\n",
       "    </tr>\n",
       "  </tbody>\n",
       "</table>\n",
       "</div>"
      ],
      "text/plain": [
       "     이름   키    학교\n",
       "1  채치수  197  북산고\n",
       "2  정대만  184  북산고\n",
       "3  송태섭  168  북산고\n",
       "4  서태웅  187  북산고\n",
       "5  강백호  188  북산고\n",
       "6  변덕규  202  능남고\n",
       "7  황태산  188  능남고\n",
       "8  윤대협  190  능남고"
      ]
     },
     "execution_count": 21,
     "metadata": {},
     "output_type": "execute_result"
    }
   ],
   "source": [
    "df=pd.DataFrame(data, columns=['이름','키','학교'],index=[1,2,3,4,5,6,7,8])\n",
    "df\n"
   ]
  }
 ],
 "metadata": {
  "kernelspec": {
   "display_name": "Python 3",
   "language": "python",
   "name": "python3"
  },
  "language_info": {
   "codemirror_mode": {
    "name": "ipython",
    "version": 3
   },
   "file_extension": ".py",
   "mimetype": "text/x-python",
   "name": "python",
   "nbconvert_exporter": "python",
   "pygments_lexer": "ipython3",
   "version": "3.13.6"
  }
 },
 "nbformat": 4,
 "nbformat_minor": 5
}
