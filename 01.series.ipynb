{
 "cells": [
  {
   "cell_type": "markdown",
   "id": "d3f1ce88",
   "metadata": {},
   "source": [
    "# Pandas\n",
    "파이썬에서 사용하는 데이터 분석 라이브러리\n"
   ]
  },
  {
   "cell_type": "code",
   "execution_count": 24,
   "id": "8c27321a",
   "metadata": {},
   "outputs": [],
   "source": [
    "import pandas as pd"
   ]
  },
  {
   "cell_type": "markdown",
   "id": "99ba2f9b",
   "metadata": {},
   "source": [
    "# 1.Series\n",
    "1차원 데이터(정수,실수.문자열 등)"
   ]
  },
  {
   "cell_type": "markdown",
   "id": "370e5688",
   "metadata": {},
   "source": [
    "## Series 객체 생성\n",
    "예) 1월부터 4월까지 평균 온도 데이터 (-20,-10,10,20)"
   ]
  },
  {
   "cell_type": "code",
   "execution_count": 25,
   "id": "38edc562",
   "metadata": {},
   "outputs": [
    {
     "name": "stdout",
     "output_type": "stream",
     "text": [
      "0   -20\n",
      "1   -10\n",
      "2    10\n",
      "3    20\n",
      "dtype: int64\n"
     ]
    }
   ],
   "source": [
    "temp=pd.Series([-20,-10,10,20])\n",
    "print(temp)"
   ]
  },
  {
   "cell_type": "code",
   "execution_count": 26,
   "id": "dc2c2158",
   "metadata": {},
   "outputs": [
    {
     "name": "stdout",
     "output_type": "stream",
     "text": [
      "-20\n"
     ]
    }
   ],
   "source": [
    "print(temp[0])"
   ]
  },
  {
   "cell_type": "code",
   "execution_count": 27,
   "id": "f1148962",
   "metadata": {},
   "outputs": [
    {
     "name": "stdout",
     "output_type": "stream",
     "text": [
      "10\n"
     ]
    }
   ],
   "source": [
    "print(temp[2])"
   ]
  },
  {
   "cell_type": "markdown",
   "id": "b2f1b040",
   "metadata": {},
   "source": [
    "## Series 객체 생성\n",
    "index 지정"
   ]
  },
  {
   "cell_type": "code",
   "execution_count": 28,
   "id": "841b0175",
   "metadata": {},
   "outputs": [
    {
     "name": "stdout",
     "output_type": "stream",
     "text": [
      "Jan    -20\n",
      "Feb    -10\n",
      "Mars    10\n",
      "Apr     20\n",
      "dtype: int64\n"
     ]
    }
   ],
   "source": [
    "temp=pd.Series([-20,-10,10,20], index=['Jan','Feb','Mars','Apr'])\n",
    "print(temp)"
   ]
  },
  {
   "cell_type": "code",
   "execution_count": 29,
   "id": "9f6ca4da",
   "metadata": {},
   "outputs": [
    {
     "name": "stdout",
     "output_type": "stream",
     "text": [
      "20\n"
     ]
    }
   ],
   "source": [
    "print(temp['Apr'])   #APR 인덱스 출력"
   ]
  },
  {
   "cell_type": "code",
   "execution_count": 30,
   "id": "404663fb",
   "metadata": {},
   "outputs": [],
   "source": [
    "#print(temp['June'])  #존재하지않는 index 접근 시도시 에러"
   ]
  }
 ],
 "metadata": {
  "kernelspec": {
   "display_name": "Python 3",
   "language": "python",
   "name": "python3"
  },
  "language_info": {
   "codemirror_mode": {
    "name": "ipython",
    "version": 3
   },
   "file_extension": ".py",
   "mimetype": "text/x-python",
   "name": "python",
   "nbconvert_exporter": "python",
   "pygments_lexer": "ipython3",
   "version": "3.13.6"
  }
 },
 "nbformat": 4,
 "nbformat_minor": 5
}
